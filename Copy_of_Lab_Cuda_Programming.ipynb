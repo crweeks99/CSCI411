{
  "nbformat": 4,
  "nbformat_minor": 0,
  "metadata": {
    "colab": {
      "private_outputs": true,
      "provenance": [],
      "toc_visible": true,
      "collapsed_sections": [],
      "include_colab_link": true
    },
    "kernelspec": {
      "name": "python3",
      "display_name": "Python 3"
    },
    "language_info": {
      "name": "python"
    },
    "accelerator": "GPU",
    "gpuClass": "standard"
  },
  "cells": [
    {
      "cell_type": "markdown",
      "metadata": {
        "id": "view-in-github",
        "colab_type": "text"
      },
      "source": [
        "<a href=\"https://colab.research.google.com/github/crweeks99/CSCI411/blob/master/Copy_of_Lab_Cuda_Programming.ipynb\" target=\"_parent\"><img src=\"https://colab.research.google.com/assets/colab-badge.svg\" alt=\"Open In Colab\"/></a>"
      ]
    },
    {
      "cell_type": "markdown",
      "metadata": {
        "id": "3h5ZLJeKDnIM"
      },
      "source": [
        "This notebook will set up colab so that you can run the CUDA blur lab for the module \"Introduction to CUDA programming\" created by the TOUCH project.  (https://github.com/TeachingUndergradsCHC/modules/tree/master/Programming/cuda).  The initial setup instructions are based on those by an online post by Andrei Nechaev (https://medium.com/@iphoenix179/running-cuda-c-c-in-jupyter-or-how-to-run-nvcc-in-google-colab-663d33f53772).\n",
        "\n",
        "Begin by setting your runtime to use a GPU (Select \"Change runtime type\" in the Runtime menu and choose \"GPU\".)  Then run the first couple of instructions below.  Run them one at a time, waiting for each to finish before beginning the next."
      ]
    },
    {
      "cell_type": "code",
      "metadata": {
        "id": "VHJlc5jODlIG"
      },
      "source": [
        "!git config --global url.\"https://github.com/\".insteadOf git://github.com/\n",
        "!pip install git+git://github.com/andreinechaev/nvcc4jupyter.git\n",
        "%load_ext nvcc_plugin"
      ],
      "execution_count": null,
      "outputs": []
    },
    {
      "cell_type": "code",
      "metadata": {
        "id": "FavSJfZAFIc_"
      },
      "source": [
        "!sudo ln -s /usr/bin/gcc-5 /usr/local/cuda/bin/gcc\n",
        "!sudo ln -s /usr/bin/g++-5 /usr/local/cuda/bin/g++"
      ],
      "execution_count": null,
      "outputs": []
    },
    {
      "cell_type": "markdown",
      "source": [
        "NVIDIA System Management Interface ((nvidia-smi) ---  provides monitoring and management capabilities for NVIDIA GPU devices."
      ],
      "metadata": {
        "id": "qVqObPJhxMpW"
      }
    },
    {
      "cell_type": "code",
      "source": [
        "!nvidia-smi"
      ],
      "metadata": {
        "id": "O8rU2K8ixPjc"
      },
      "execution_count": null,
      "outputs": []
    },
    {
      "cell_type": "markdown",
      "source": [
        "# Try it:  Please write down the Name of GPU device. "
      ],
      "metadata": {
        "id": "8uHNjOJL2KA9"
      }
    },
    {
      "cell_type": "markdown",
      "source": [
        "Tesla T4"
      ],
      "metadata": {
        "id": "CK5n77cZcPYb"
      }
    },
    {
      "cell_type": "markdown",
      "metadata": {
        "id": "bp2Xz4O2FPqW"
      },
      "source": [
        "Now you can run CUDA program by preceeding their code with %%cu.  The next cell is an example, a version of \"Hello World\" for CUDA.  Running it is optional, but useful since doing so will show that the installation was successful. "
      ]
    },
    {
      "cell_type": "code",
      "source": [],
      "metadata": {
        "id": "b74_qSdPY996"
      },
      "execution_count": null,
      "outputs": []
    },
    {
      "cell_type": "markdown",
      "source": [
        "#Try it:  Change the following code so that it launches 6 blocks of 6 threads each. "
      ],
      "metadata": {
        "id": "q1T547g4vl0I"
      }
    },
    {
      "cell_type": "code",
      "metadata": {
        "id": "BxX8ypeTFozH"
      },
      "source": [
        "%%cu\n",
        "#include <stdio.h>\n",
        " \n",
        "__global__ void hello() {\n",
        "   int id = threadIdx.x + blockIdx.x * blockDim.x;\n",
        "   printf(\"Hello from threads %d (%d of block %d) \\n\", id, threadIdx.x, blockIdx.x);\n",
        "}\n",
        "\n",
        "int main() {\n",
        "   hello<<<5,4>>>();  //launch 5 blocks of 4 threads each  \n",
        " \n",
        "   cudaDeviceSynchronize();  //make sure kernel completes\n",
        "}"
      ],
      "execution_count": null,
      "outputs": []
    },
    {
      "cell_type": "markdown",
      "metadata": {
        "id": "Epta_l7pK6Tl"
      },
      "source": [
        "Next, upload the files that you'll need for the blur project.  These are the library code for managing ppm files (ppmFile.h and ppmFile.c) and the image that you'll be using (I provide 640x426.ppm, but you could use another file instead).  You can download these from the repository and then upload them by selecting the folder icon to the left of the code and then the file with an upward arrow.\n",
        "\n",
        "After that, you're able to run the initial version of the program (below). This version removes all\n",
        "the red from our sample image (640x426.ppm) and creates a new file out.ppm.  Please verify the out.ppm has the effect. \n",
        "\n"
      ]
    },
    {
      "cell_type": "markdown",
      "source": [
        "# Try it:   change this kernel to convert the image into grayscale (black and white). "
      ],
      "metadata": {
        "id": "SwEfBGYPWAf_"
      }
    },
    {
      "cell_type": "markdown",
      "source": [
        " To do this,take the values of the red, green, and blue channels and average them (add them up and divide by 3). Set  the value of all three channels to be this average. Run the resulting program and verify that out.ppm is now a grayscale image."
      ],
      "metadata": {
        "id": "nD1xbBbOWVDw"
      }
    },
    {
      "cell_type": "code",
      "metadata": {
        "id": "cVa7IRbwLv25"
      },
      "source": [
        "%%cu\n",
        "#include <stdio.h>\n",
        "#include <stdlib.h>\n",
        "#include <time.h>\n",
        "\n",
        "#include \"/content/ppmFile.c\"  //don't include .c files normally, but needed for library code in a notebook\n",
        "\n",
        "__global__ void kernel(int width, int height, unsigned char *d_input, unsigned char* d_output){\n",
        "\n",
        "    //coordinates of pixel for which this call is responsible\n",
        "    int i = blockIdx.x * blockDim.x + threadIdx.x;\n",
        "    int j = blockIdx.y * blockDim.y + threadIdx.y;\n",
        "\n",
        "    int offset0,offset1,offset2;  //index in array corresponding to a pixel\n",
        "\n",
        "    if(i >=0 && i < width && j >=0 && j < height) {\n",
        "\n",
        "          offset0 = (j * width + i) * 3 + 0;  //0 is red channel\n",
        "          d_output[offset0] = d_input[offset0];\n",
        "\n",
        "          offset1 = (j * width + i) * 3 + 1;  //1 is green channel\n",
        "          d_output[offset1] = 0;\n",
        "\n",
        "          offset2 = (j * width + i) * 3 + 2;  //2 is blue channel\n",
        "          d_output[offset2] = d_input[offset2];\n",
        "\n",
        "    }\n",
        "}\n",
        "\n",
        "int main(int argc, char *argv[]){\n",
        "    const char* inFile = \"640x426.ppm\";     //file names for input and output files\n",
        "    const char* outFile = \"out.ppm\";\n",
        "\n",
        "    int width;                              //image size\n",
        "    int height;\n",
        "    Image *inImage, *outImage;              //image structs (defined in ppmFile.h)\n",
        "    unsigned char *data;                    //input image data\n",
        "\n",
        "    //Device variables:\n",
        "    unsigned char *d_input;                 //input image data\n",
        "    unsigned char *d_output;                //output image data\n",
        "\n",
        "    inImage = ImageRead(inFile);            //get input image and its attributes\n",
        "    width = inImage->width;\n",
        "    height = inImage->height;\n",
        "    data = inImage->data;\n",
        "    int image_size = width * height * 3;    //size of image in byes; 3 is # channels\n",
        "\n",
        "    //allocate memory for GPU\n",
        "    cudaMalloc((void**)&d_input, sizeof(unsigned char*) * image_size);\n",
        "    cudaMalloc((void**)&d_output, sizeof(unsigned char*) * image_size);\n",
        "\n",
        "    //copy values to GPU\n",
        "    cudaMemcpy(d_input, data, image_size, cudaMemcpyHostToDevice);\n",
        "\n",
        "    //call kernel using block size 32x32\n",
        "    dim3 blockD(32,32);\n",
        "    dim3 gridD((width + blockD.x - 1)/blockD.x, (height + blockD.y - 1)/blockD.y);\n",
        "    kernel<<<gridD, blockD>>>(width, height, d_input,d_output);\n",
        "\n",
        "    //create and clear image variable for use as the result\n",
        "    outImage = ImageCreate(width,height);\n",
        "    ImageClear(outImage,255,255,255);\n",
        "\n",
        "    cudaDeviceSynchronize();\n",
        "\n",
        "    //copy output image from gpu\n",
        "    cudaMemcpy(outImage->data, d_output, image_size, cudaMemcpyDeviceToHost);\n",
        "\n",
        "    ImageWrite(outImage, outFile);        //write output image to file\n",
        "\n",
        "    free(inImage->data);                  //free memory\n",
        "    free(outImage->data);\n",
        "\n",
        "    return 0;\n",
        "}\n",
        "\n"
      ],
      "execution_count": null,
      "outputs": []
    },
    {
      "cell_type": "markdown",
      "source": [
        "Optional: Next, you may modify the kernel to create a blur effect. This is also done by taking an average, but a\n",
        "different sort of average. Each channel is blurred separately— each gets the average of that channel’s value\n",
        "for nearby pixels such as   (i-5, j-5) .. (i+5, j+5)."
      ],
      "metadata": {
        "id": "SD4tNrMsgk99"
      }
    }
  ]
}